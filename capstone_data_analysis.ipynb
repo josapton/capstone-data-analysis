{
  "nbformat": 4,
  "nbformat_minor": 0,
  "metadata": {
    "colab": {
      "private_outputs": true,
      "provenance": [],
      "authorship_tag": "ABX9TyNhYEfRJiqSoCqY2e5tRyci",
      "include_colab_link": true
    },
    "kernelspec": {
      "name": "python3",
      "display_name": "Python 3"
    },
    "language_info": {
      "name": "python"
    }
  },
  "cells": [
    {
      "cell_type": "markdown",
      "metadata": {
        "id": "view-in-github",
        "colab_type": "text"
      },
      "source": [
        "<a href=\"https://colab.research.google.com/github/josapton/capstone-data-analysis/blob/main/capstone_data_analysis.ipynb\" target=\"_parent\"><img src=\"https://colab.research.google.com/assets/colab-badge.svg\" alt=\"Open In Colab\"/></a>"
      ]
    },
    {
      "cell_type": "markdown",
      "source": [
        "# setup environement"
      ],
      "metadata": {
        "id": "XT0pxPzvjMLc"
      }
    },
    {
      "cell_type": "markdown",
      "source": [
        "install and import libraries"
      ],
      "metadata": {
        "id": "wNp_MdugjVhC"
      }
    },
    {
      "cell_type": "code",
      "execution_count": null,
      "metadata": {
        "id": "odrL1bISfGJ6"
      },
      "outputs": [],
      "source": [
        "# Core data libs\n",
        "import pandas as pd\n",
        "import numpy as np\n",
        "\n",
        "# Visualization\n",
        "import matplotlib.pyplot as plt\n",
        "import seaborn as sns\n",
        "\n",
        "# Modeling\n",
        "from sklearn.model_selection import train_test_split\n",
        "from sklearn.preprocessing import StandardScaler\n",
        "from sklearn.linear_model import LogisticRegression\n",
        "from sklearn.metrics import (\n",
        "    accuracy_score, classification_report, confusion_matrix\n",
        ")\n",
        "\n",
        "# Display settings\n",
        "sns.set(style=\"whitegrid\")\n",
        "pd.set_option(\"display.max_columns\", None)"
      ]
    },
    {
      "cell_type": "markdown",
      "source": [
        "# load and inspect the dataset"
      ],
      "metadata": {
        "id": "IlmeUUi4ji2I"
      }
    },
    {
      "cell_type": "markdown",
      "source": [
        "for simplicity, we’ll analyze the titanic dataset via seaborn’s built in loader"
      ],
      "metadata": {
        "id": "nI1DmJ3BjogJ"
      }
    },
    {
      "cell_type": "code",
      "source": [
        "df = sns.load_dataset(\"titanic\")\n",
        "df.head(5)"
      ],
      "metadata": {
        "id": "hVIYrlS0fc_i"
      },
      "execution_count": null,
      "outputs": []
    },
    {
      "cell_type": "markdown",
      "source": [
        "check dimensions"
      ],
      "metadata": {
        "id": "Ch816rt4j8-f"
      }
    },
    {
      "cell_type": "code",
      "source": [
        "df.shape"
      ],
      "metadata": {
        "id": "8e2yGwIBfj-p"
      },
      "execution_count": null,
      "outputs": []
    },
    {
      "cell_type": "markdown",
      "source": [
        "summarize"
      ],
      "metadata": {
        "id": "eCA2GdUekAxH"
      }
    },
    {
      "cell_type": "code",
      "source": [
        "df.describe(include=\"all\")\n",
        "df.info()\n",
        "df.isnull().sum()"
      ],
      "metadata": {
        "id": "g2VBwKMnfmyJ"
      },
      "execution_count": null,
      "outputs": []
    },
    {
      "cell_type": "markdown",
      "source": [
        "# exploratory data analysis (EDA)"
      ],
      "metadata": {
        "id": "rAxyQXdTkK-W"
      }
    },
    {
      "cell_type": "markdown",
      "source": [
        "distribution of key variables"
      ],
      "metadata": {
        "id": "7m_gfgL6kUaO"
      }
    },
    {
      "cell_type": "code",
      "source": [
        "fig, axes = plt.subplots(1, 2, figsize=(12, 5))\n",
        "sns.countplot(x=\"sex\", data=df, ax=axes[0])\n",
        "sns.countplot(x=\"pclass\", hue=\"survived\", data=df, ax=axes[1])\n",
        "plt.show()"
      ],
      "metadata": {
        "id": "9JZZSB2Kfpgi"
      },
      "execution_count": null,
      "outputs": []
    },
    {
      "cell_type": "markdown",
      "source": [
        "age distribution and survival rate"
      ],
      "metadata": {
        "id": "B7_ixIhxkb4N"
      }
    },
    {
      "cell_type": "code",
      "source": [
        "plt.figure(figsize=(8, 4))\n",
        "sns.histplot(df.age.dropna(), kde=True, bins=30)\n",
        "plt.title(\"Age Distribution\")\n",
        "plt.show()\n",
        "\n",
        "sns.boxplot(x=\"survived\", y=\"age\", data=df)\n",
        "plt.title(\"Age vs Survival\")\n",
        "plt.show()"
      ],
      "metadata": {
        "id": "GBNu7Eg3fsoS"
      },
      "execution_count": null,
      "outputs": []
    },
    {
      "cell_type": "markdown",
      "source": [
        "correlation heatmap (numerical features)"
      ],
      "metadata": {
        "id": "53omwkU4kprt"
      }
    },
    {
      "cell_type": "code",
      "source": [
        "sns.heatmap(df[[\"survived\",\"age\",\"fare\",\"sibsp\",\"parch\"]].corr(), annot=True)\n",
        "plt.show()"
      ],
      "metadata": {
        "id": "WEw-LIVjfvO5"
      },
      "execution_count": null,
      "outputs": []
    },
    {
      "cell_type": "markdown",
      "source": [
        "# data cleaning and preprocessing"
      ],
      "metadata": {
        "id": "atjktVPzkzbc"
      }
    },
    {
      "cell_type": "markdown",
      "source": [
        "select relevant features"
      ],
      "metadata": {
        "id": "MJv8KClpk56r"
      }
    },
    {
      "cell_type": "code",
      "source": [
        "data = df[[\"survived\",\"pclass\",\"sex\",\"age\",\"sibsp\",\"parch\",\"fare\",\"embarked\"]].copy()"
      ],
      "metadata": {
        "id": "HIQEii6Nfx8B"
      },
      "execution_count": null,
      "outputs": []
    },
    {
      "cell_type": "markdown",
      "source": [
        "handles missing values"
      ],
      "metadata": {
        "id": "EoZxVyjTk-uL"
      }
    },
    {
      "cell_type": "code",
      "source": [
        "data['age'] = data['age'].fillna(data['age'].median())\n",
        "data['embarked'] = data['embarked'].fillna(data['embarked'].mode()[0])"
      ],
      "metadata": {
        "id": "n-ptX99Jf2CA"
      },
      "execution_count": null,
      "outputs": []
    },
    {
      "cell_type": "markdown",
      "source": [
        "encode categorical variables"
      ],
      "metadata": {
        "id": "1M9qeysulCXC"
      }
    },
    {
      "cell_type": "code",
      "source": [
        "data = pd.get_dummies(data, columns=[\"sex\",\"embarked\"], drop_first=True)"
      ],
      "metadata": {
        "id": "H6ryDXStf4jA"
      },
      "execution_count": null,
      "outputs": []
    },
    {
      "cell_type": "markdown",
      "source": [
        "split into features/target"
      ],
      "metadata": {
        "id": "Qpp_FfcFlRFS"
      }
    },
    {
      "cell_type": "code",
      "source": [
        "X = data.drop(\"survived\", axis=1)\n",
        "y = data.survived"
      ],
      "metadata": {
        "id": "PkzA-2jkf7qg"
      },
      "execution_count": null,
      "outputs": []
    },
    {
      "cell_type": "markdown",
      "source": [
        "train/test split"
      ],
      "metadata": {
        "id": "HmRKk-XZlVeh"
      }
    },
    {
      "cell_type": "code",
      "source": [
        "X_train, X_test, y_train, y_test = train_test_split(\n",
        "    X, y, test_size=0.2, random_state=42\n",
        ")"
      ],
      "metadata": {
        "id": "2FiB-uqZf-eg"
      },
      "execution_count": null,
      "outputs": []
    },
    {
      "cell_type": "markdown",
      "source": [
        "# feature scaling and model training"
      ],
      "metadata": {
        "id": "UFDOf5i7lZDp"
      }
    },
    {
      "cell_type": "markdown",
      "source": [
        "scale numeric features"
      ],
      "metadata": {
        "id": "9irmiO4PlhiY"
      }
    },
    {
      "cell_type": "code",
      "source": [
        "scaler = StandardScaler()\n",
        "num_cols = [\"age\",\"sibsp\",\"parch\",\"fare\"]\n",
        "X_train[num_cols] = scaler.fit_transform(X_train[num_cols])\n",
        "X_test[num_cols] = scaler.transform(X_test[num_cols])"
      ],
      "metadata": {
        "id": "fLLjT2NhgAuX"
      },
      "execution_count": null,
      "outputs": []
    },
    {
      "cell_type": "markdown",
      "source": [
        "train logistic regerssion"
      ],
      "metadata": {
        "id": "6tXjrpvpllHg"
      }
    },
    {
      "cell_type": "code",
      "source": [
        "model = LogisticRegression(max_iter=200)\n",
        "model.fit(X_train, y_train)"
      ],
      "metadata": {
        "id": "cEc9Rln7gELw"
      },
      "execution_count": null,
      "outputs": []
    },
    {
      "cell_type": "markdown",
      "source": [
        "# model evaluation"
      ],
      "metadata": {
        "id": "_rwIwc0plyx4"
      }
    },
    {
      "cell_type": "markdown",
      "source": [
        "make prediction"
      ],
      "metadata": {
        "id": "CNfSdp7Vl2Tn"
      }
    },
    {
      "cell_type": "code",
      "source": [
        "y_pred = model.predict(X_test)"
      ],
      "metadata": {
        "id": "_LFV_5kxgGjW"
      },
      "execution_count": null,
      "outputs": []
    },
    {
      "cell_type": "markdown",
      "source": [
        "metrics and reports"
      ],
      "metadata": {
        "id": "-8CwQT7Vl6SX"
      }
    },
    {
      "cell_type": "code",
      "source": [
        "print(\"Accuracy:\", accuracy_score(y_test, y_pred))\n",
        "print(classification_report(y_test, y_pred))"
      ],
      "metadata": {
        "id": "Tqg2WO1UgJ4X"
      },
      "execution_count": null,
      "outputs": []
    },
    {
      "cell_type": "markdown",
      "source": [
        "confusion metrix visualization"
      ],
      "metadata": {
        "id": "tQ6KQGBhl90P"
      }
    },
    {
      "cell_type": "code",
      "source": [
        "cm = confusion_matrix(y_test, y_pred)\n",
        "sns.heatmap(cm, annot=True, fmt=\"d\", cmap=\"Blues\")\n",
        "plt.xlabel(\"Predicted\"); plt.ylabel(\"Actual\")\n",
        "plt.show()"
      ],
      "metadata": {
        "id": "9BFJTfEhgMJ3"
      },
      "execution_count": null,
      "outputs": []
    }
  ]
}